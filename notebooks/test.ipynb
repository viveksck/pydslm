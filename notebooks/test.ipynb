{
 "metadata": {
  "name": "",
  "signature": "sha256:bd068a918d881b2abd67814026703621eb8c85114e0a3b56150eb3bd13407176"
 },
 "nbformat": 3,
 "nbformat_minor": 0,
 "worksheets": [
  {
   "cells": [
    {
     "cell_type": "code",
     "collapsed": false,
     "input": [
      "import pickle\n",
      "from gensim.models.word2vec import Vocab"
     ],
     "language": "python",
     "metadata": {},
     "outputs": [],
     "prompt_number": 40
    },
    {
     "cell_type": "code",
     "collapsed": false,
     "input": [
      "vocab = pickle.load(open('./pydslm/myvocab.pkl'))\n",
      "embeddings = pickle.load(open('./pydslm/myembeddings.pkl'))                    "
     ],
     "language": "python",
     "metadata": {},
     "outputs": [],
     "prompt_number": 41
    },
    {
     "cell_type": "code",
     "collapsed": false,
     "input": [
      "def get_embedding_word(word, loc):\n",
      "    index = vocab[word].index\n",
      "    main_emb = embeddings[\"MAIN\"][index]\n",
      "    delta_emb = embeddings[loc][index]\n",
      "    return main_emb + delta_emb"
     ],
     "language": "python",
     "metadata": {},
     "outputs": [],
     "prompt_number": 42
    },
    {
     "cell_type": "code",
     "collapsed": false,
     "input": [
      "loc = [\"us\", \"gb\"]"
     ],
     "language": "python",
     "metadata": {},
     "outputs": [],
     "prompt_number": 43
    },
    {
     "cell_type": "code",
     "collapsed": false,
     "input": [
      "us_emb = np.array([get_embedding_word(w, \"us\") for w in sorted(vocab.keys())])"
     ],
     "language": "python",
     "metadata": {},
     "outputs": [],
     "prompt_number": 44
    },
    {
     "cell_type": "code",
     "collapsed": false,
     "input": [
      "gb_emb = np.array([get_embedding_word(w, \"gb\") for w in sorted(vocab.keys())])"
     ],
     "language": "python",
     "metadata": {},
     "outputs": [],
     "prompt_number": 45
    },
    {
     "cell_type": "code",
     "collapsed": false,
     "input": [
      "words = sorted(vocab.keys())"
     ],
     "language": "python",
     "metadata": {},
     "outputs": [],
     "prompt_number": 46
    },
    {
     "cell_type": "code",
     "collapsed": false,
     "input": [
      "print words"
     ],
     "language": "python",
     "metadata": {},
     "outputs": [
      {
       "output_type": "stream",
       "stream": "stdout",
       "text": [
        "[u'and', u'gay', u'happy', u'lesbian', u'sad']\n"
       ]
      }
     ],
     "prompt_number": 47
    },
    {
     "cell_type": "code",
     "collapsed": false,
     "input": [
      "us_txt = words\n",
      "gb_txt = words\n",
      "fig, ax = plt.subplots()\n",
      "scatter(list(us_emb[:,0]), list(us_emb[:,1]), c='b')\n",
      "for i, txt in enumerate(us_txt):\n",
      "    ax.annotate(txt, (us_emb[:,0][i],us_emb[:,1][i]))\n",
      "    \n",
      "scatter(list(gb_emb[:,0]), list(gb_emb[:,1]), c='r')\n",
      "for i, txt in enumerate(gb_txt):\n",
      "    ax.annotate(txt, (gb_emb[:,0][i],gb_emb[:,1][i]))"
     ],
     "language": "python",
     "metadata": {},
     "outputs": [
      {
       "metadata": {},
       "output_type": "display_data",
       "png": "[encoded data removed]",
       "text": [
        "<matplotlib.figure.Figure at 0x7fdd0ae19f50>"
       ]
      }
     ],
     "prompt_number": 52
    },
    {
     "cell_type": "code",
     "collapsed": false,
     "input": [
      "print embeddings[\"MAIN\"]"
     ],
     "language": "python",
     "metadata": {},
     "outputs": [
      {
       "output_type": "stream",
       "stream": "stdout",
       "text": [
        "[[-1.08998859  1.00217354]\n",
        " [-4.02917671 -3.84636998]\n",
        " [ 3.39260459 -3.315027  ]\n",
        " [ 0.98617351 -3.91857505]\n",
        " [ 0.55363989 -1.04641557]]\n"
       ]
      }
     ],
     "prompt_number": 54
    },
    {
     "cell_type": "code",
     "collapsed": false,
     "input": [
      "print embeddings[\"gb\"]"
     ],
     "language": "python",
     "metadata": {},
     "outputs": [
      {
       "output_type": "stream",
       "stream": "stdout",
       "text": [
        "[[-0.20267276 -0.02359975]\n",
        " [-1.89993203 -2.02385378]\n",
        " [ 0.          0.        ]\n",
        " [-5.77808523 -0.84161723]\n",
        " [ 0.4856236  -0.53701729]]\n"
       ]
      }
     ],
     "prompt_number": 55
    },
    {
     "cell_type": "code",
     "collapsed": false,
     "input": [
      "print embeddings[\"us\"]"
     ],
     "language": "python",
     "metadata": {},
     "outputs": [
      {
       "output_type": "stream",
       "stream": "stdout",
       "text": [
        "[[-0.89458281  0.904239  ]\n",
        " [-1.89917827 -2.02278471]\n",
        " [ 3.23652887 -3.54219031]\n",
        " [ 6.91423368 -2.96366215]\n",
        " [ 0.0899322  -0.48022962]]\n"
       ]
      }
     ],
     "prompt_number": 57
    },
    {
     "cell_type": "code",
     "collapsed": false,
     "input": [],
     "language": "python",
     "metadata": {},
     "outputs": []
    }
   ],
   "metadata": {}
  }
 ]
}